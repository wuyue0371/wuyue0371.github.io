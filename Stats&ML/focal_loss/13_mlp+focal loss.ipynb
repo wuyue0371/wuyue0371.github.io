{
 "cells": [
  {
   "cell_type": "markdown",
   "id": "f61dcd41",
   "metadata": {},
   "source": [
    "### 在mlp中使用focal loss"
   ]
  },
  {
   "cell_type": "code",
   "execution_count": 1,
   "id": "9a20650c",
   "metadata": {},
   "outputs": [],
   "source": [
    "# coding=utf-8\n",
    "import pandas as pd\n",
    "import numpy as np\n",
    "import matplotlib.pyplot as plt\n",
    "from sklearn.metrics import roc_auc_score, roc_curve, confusion_matrix,precision_recall_curve,average_precision_score\n",
    "from sklearn.model_selection import train_test_split, cross_val_score, KFold\n",
    "from sklearn.decomposition import PCA\n",
    "import tensorflow as tf\n",
    "from sklearn import preprocessing\n",
    "from keras.models import Sequential, load_model\n",
    "from keras.layers import Dense, Dropout\n",
    "import keras.backend as K\n",
    "from pandas import Series, DataFrame\n",
    "import seaborn as sns\n",
    "sns.set()\n",
    "\n",
    "def draw_roc_and_calculate_auc(models, modelnames, colors, X_test, y_test):  # 把models的roc曲线(和auc值)画到一张图\n",
    "    N = len(models)  # 输入的是N个模型\n",
    "    y_test_pred_prob = [0] * N  # 初始化一下列表（感觉这么初始化有点丑？）\n",
    "    auc = [0] * N\n",
    "    FPR = [0] * N\n",
    "    TPR = [0] * N\n",
    "    plt.figure()\n",
    "    for i in range(N):\n",
    "        y_test_pred_prob[i] = models[i].predict(X_test)\n",
    "        auc[i] = roc_auc_score(y_test, y_test_pred_prob[i], average='macro')\n",
    "        FPR[i], TPR[i], _ = roc_curve(y_test, y_test_pred_prob[i])\n",
    "        plt.plot(FPR[i], TPR[i], color=colors[i], label=modelnames[i] + ':AUC=%.4f' % auc[i])\n",
    "    plt.plot([0, 1], [0, 1], '--', color='black')  # diagonal line\n",
    "    plt.title('ROC Curve')\n",
    "    plt.legend(loc='lower right')\n",
    "    plt.xlabel('False Positive Rate')\n",
    "    plt.ylabel('True Positive Rate')\n",
    "    plt.show()\n",
    "    \n",
    "def draw_pr_and_calculate_ap(models, modelnames, colors, X_test, y_test):  # 把models的roc曲线(和auc值)画到一张图\n",
    "    N = len(models)  # 输入的是N个模型\n",
    "    y_test_pred_prob = [0] * N  # 初始化一下列表（感觉这么初始化有点丑？）\n",
    "    AP = [0] * N\n",
    "    Precision = [0] * N\n",
    "    Recall = [0] * N\n",
    "    plt.figure()\n",
    "    for i in range(N):\n",
    "        y_test_pred_prob[i] = models[i].predict(X_test)\n",
    "        AP[i] = average_precision_score(y_test, y_test_pred_prob[i], average='macro')\n",
    "        Precision[i], Recall[i], _ = precision_recall_curve(y_test, y_test_pred_prob[i])\n",
    "        plt.plot(Precision[i], Recall[i], color=colors[i], label=modelnames[i] + ':AP=%.4f' % AP[i])\n",
    "    plt.plot([0, 1], [1, 0], '--', color='black')  # diagonal line\n",
    "    plt.title('PR Curve')\n",
    "    plt.legend(loc='lower right')\n",
    "    plt.xlabel('Precision')\n",
    "    plt.ylabel('Recall')\n",
    "    plt.show()\n",
    "\n",
    "\n",
    "def draw_confusion_metrics(model, modelname, X_test, y_test):  # 把model的混淆矩阵画出来  #这个同时写很多的话不知道怎么安排画布就没写sos\n",
    "    plt.figure()\n",
    "\n",
    "    y_test_pred=(model.predict(X_test) >= 0.5).astype(\"int32\")\n",
    "\n",
    "    # # y_test_pred = model.predict(X_test)  # 上面那行有时候会报错，如果模型直接是classifier用这行就行\n",
    "    # y_test_pred = model.predict_proba(X_test)[:, 1]  # 取第二列 正的概率，根据每个人的数据不同而不同!\n",
    "    # y_test_pred = np.around(y_test_pred, 0).astype(int)\n",
    "\n",
    "    c_matrix = confusion_matrix(y_test, y_test_pred)\n",
    "    ax = sns.heatmap(c_matrix, annot=True, fmt=\"d\",\n",
    "                     xticklabels=['0', '1'],\n",
    "                     yticklabels=['0', '1'],  # 应该没写反吧\n",
    "                     cbar=False, cmap='Blues')\n",
    "    ax.set_xlabel(\"Prediction\")\n",
    "    ax.set_ylabel(\"Actual\")\n",
    "    plt.title(modelname)\n",
    "    plt.show()\n",
    "\n",
    "\n",
    "plt.rcParams.update({'figure.autolayout': True})\n",
    "\n",
    "\n",
    "####导入数据\n",
    "df = pd.read_csv(\"E:/Desktop/train_after_FeatureEngineer.csv\")\n",
    "\n",
    "df_X=df.drop(['target','id'],axis=1)\n",
    "X=df_X.loc[:,:]\n",
    "Y=df.loc[:,'target']\n",
    "X=X.to_numpy()\n",
    "y=Y.to_numpy()\n",
    "\n",
    "# split train and test\n",
    "X_train, X_test, y_train, y_test = train_test_split(X, y, train_size=0.2,random_state=123)\n"
   ]
  },
  {
   "cell_type": "code",
   "execution_count": 2,
   "id": "9c43cb1c",
   "metadata": {},
   "outputs": [],
   "source": [
    "# 定义focal loss损失函数\n",
    "''' focal loss '''\n",
    "def binary_focal_loss(alpha, gamma):\n",
    "    alpha = tf.constant(alpha, dtype=tf.float32)\n",
    "    gamma = tf.constant(gamma, dtype=tf.float32)\n",
    "\n",
    "    def binary_focal_loss_fixed(y_true, y_pred):\n",
    "        \"\"\"\n",
    "        y_true shape need be (None,1)\n",
    "        y_pred need be compute after sigmoid\n",
    "        \"\"\"\n",
    "        y_true = tf.cast(y_true, tf.float32)\n",
    "        alpha_t = y_true * alpha + (K.ones_like(y_true) - y_true) * (1 - alpha)\n",
    "\n",
    "        p_t = y_true * y_pred + (K.ones_like(y_true) - y_true) * (K.ones_like(y_true) - y_pred) + K.epsilon()\n",
    "        focal_loss = - alpha_t * K.pow((K.ones_like(y_true) - p_t), gamma) * K.log(p_t)\n",
    "        focal_loss=focal_loss*10\n",
    "        return K.mean(focal_loss,axis=-1)\n",
    "\n",
    "    return binary_focal_loss_fixed"
   ]
  },
  {
   "cell_type": "code",
   "execution_count": 3,
   "id": "088f1f92",
   "metadata": {},
   "outputs": [],
   "source": [
    "# building the nn\n",
    "model1 = Sequential()\n",
    "model1.add(Dense(20, activation='relu', input_dim=58))\n",
    "model1.add(Dense(16, activation='relu'))\n",
    "model1.add(Dense(8, activation='relu'))\n",
    "model1.add(Dense(1, activation='sigmoid'))\n",
    "\n",
    "# building the nn\n",
    "model2 = Sequential()\n",
    "model2.add(Dense(20, activation='relu', input_dim=58))\n",
    "model2.add(Dense(16, activation='relu'))\n",
    "model2.add(Dense(8, activation='relu'))\n",
    "model2.add(Dense(1, activation='sigmoid'))\n",
    "\n",
    "\n",
    "# building the nn\n",
    "model3 = Sequential()\n",
    "model3.add(Dense(20, activation='relu', input_dim=58))\n",
    "model3.add(Dense(16, activation='relu'))\n",
    "model3.add(Dense(8, activation='relu'))\n",
    "model3.add(Dense(1, activation='sigmoid'))\n",
    "\n",
    "\n",
    "# building the nn\n",
    "model4 = Sequential()\n",
    "model4.add(Dense(20, activation='relu', input_dim=58))\n",
    "model4.add(Dense(16, activation='relu'))\n",
    "model4.add(Dense(8, activation='relu'))\n",
    "model4.add(Dense(1, activation='sigmoid'))\n",
    "\n",
    "\n",
    "# building the nn\n",
    "model5 = Sequential()\n",
    "model5.add(Dense(20, activation='relu', input_dim=58))\n",
    "model5.add(Dense(16, activation='relu'))\n",
    "model5.add(Dense(8, activation='relu'))\n",
    "model5.add(Dense(1, activation='sigmoid'))"
   ]
  },
  {
   "cell_type": "code",
   "execution_count": 4,
   "id": "454dbdad",
   "metadata": {},
   "outputs": [
    {
     "name": "stdout",
     "output_type": "stream",
     "text": [
      "---------no focal loss-----------\n",
      "Epoch 1/5\n",
      "3721/3721 [==============================] - 42s 11ms/step - loss: 0.1621 - mae: 0.0737 - binary_accuracy: 0.9620 - val_loss: 0.1580 - val_mae: 0.0757 - val_binary_accuracy: 0.9635\n",
      "Epoch 2/5\n",
      "3721/3721 [==============================] - 32s 9ms/step - loss: 0.1562 - mae: 0.0706 - binary_accuracy: 0.9637 - val_loss: 0.1574 - val_mae: 0.0599 - val_binary_accuracy: 0.9635\n",
      "Epoch 3/5\n",
      "3721/3721 [==============================] - 31s 8ms/step - loss: 0.1553 - mae: 0.0703 - binary_accuracy: 0.9637 - val_loss: 0.1558 - val_mae: 0.0699 - val_binary_accuracy: 0.9635\n",
      "Epoch 4/5\n",
      "3721/3721 [==============================] - 35s 9ms/step - loss: 0.1548 - mae: 0.0703 - binary_accuracy: 0.9637 - val_loss: 0.1549 - val_mae: 0.0679 - val_binary_accuracy: 0.9635\n",
      "Epoch 5/5\n",
      "3721/3721 [==============================] - 34s 9ms/step - loss: 0.1546 - mae: 0.0701 - binary_accuracy: 0.9637 - val_loss: 0.1557 - val_mae: 0.0790 - val_binary_accuracy: 0.9635\n"
     ]
    },
    {
     "data": {
      "text/plain": [
       "<keras.callbacks.History at 0x2d84783f040>"
      ]
     },
     "execution_count": 4,
     "metadata": {},
     "output_type": "execute_result"
    }
   ],
   "source": [
    "print(\"---------no focal loss-----------\")\n",
    "model1.compile(optimizer='adam',\n",
    "              loss='binary_crossentropy',\n",
    "              metrics=['mae','binary_accuracy'])\n",
    "# fit\n",
    "model1.fit(X_train, y_train, epochs=5, validation_data=(X_test, y_test))"
   ]
  },
  {
   "cell_type": "code",
   "execution_count": 5,
   "id": "16e3b0bb",
   "metadata": {},
   "outputs": [],
   "source": [
    "focal_loss0=binary_focal_loss(alpha=0.5, gamma=0)\n",
    "focal_loss1=binary_focal_loss(alpha=0.95, gamma=0)\n",
    "focal_loss2=binary_focal_loss(alpha=0.95, gamma=2)\n",
    "focal_loss3=binary_focal_loss(alpha=0.95, gamma=4)"
   ]
  },
  {
   "cell_type": "code",
   "execution_count": 6,
   "id": "bcf21951",
   "metadata": {},
   "outputs": [
    {
     "name": "stdout",
     "output_type": "stream",
     "text": [
      "---------focal loss: alpha=0.5,gamma=0-----------\n",
      "Epoch 1/5\n",
      "3721/3721 [==============================] - 38s 10ms/step - loss: 0.8016 - mae: 0.0715 - binary_accuracy: 0.9631 - val_loss: 0.7783 - val_mae: 0.0740 - val_binary_accuracy: 0.9635\n",
      "Epoch 2/5\n",
      "3721/3721 [==============================] - 43s 12ms/step - loss: 0.7811 - mae: 0.0705 - binary_accuracy: 0.9637 - val_loss: 0.7816 - val_mae: 0.0630 - val_binary_accuracy: 0.9635\n",
      "Epoch 3/5\n",
      "3721/3721 [==============================] - 37s 10ms/step - loss: 0.7773 - mae: 0.0704 - binary_accuracy: 0.9637 - val_loss: 0.7783 - val_mae: 0.0651 - val_binary_accuracy: 0.9635\n",
      "Epoch 4/5\n",
      "3721/3721 [==============================] - 29s 8ms/step - loss: 0.7751 - mae: 0.0703 - binary_accuracy: 0.9637 - val_loss: 0.7797 - val_mae: 0.0641 - val_binary_accuracy: 0.9635\n",
      "Epoch 5/5\n",
      "3721/3721 [==============================] - 43s 12ms/step - loss: 0.7733 - mae: 0.0702 - binary_accuracy: 0.9637 - val_loss: 0.7771 - val_mae: 0.0645 - val_binary_accuracy: 0.9635\n",
      "---------focal loss: alpha=0.95,gamma=0-----------\n",
      "Epoch 1/5\n",
      "3721/3721 [==============================] - 18s 4ms/step - loss: 0.5658 - mae: 0.4256 - binary_accuracy: 0.8891 - val_loss: 0.5600 - val_mae: 0.4730 - val_binary_accuracy: 0.6892\n",
      "Epoch 2/5\n",
      "3721/3721 [==============================] - 15s 4ms/step - loss: 0.5538 - mae: 0.4150 - binary_accuracy: 0.8812 - val_loss: 0.5546 - val_mae: 0.3779 - val_binary_accuracy: 0.9245\n",
      "Epoch 3/5\n",
      "3721/3721 [==============================] - 15s 4ms/step - loss: 0.5510 - mae: 0.4098 - binary_accuracy: 0.8743 - val_loss: 0.5498 - val_mae: 0.4185 - val_binary_accuracy: 0.8077\n",
      "Epoch 4/5\n",
      "3721/3721 [==============================] - 14s 4ms/step - loss: 0.5498 - mae: 0.4104 - binary_accuracy: 0.8297 - val_loss: 0.5507 - val_mae: 0.3946 - val_binary_accuracy: 0.9142\n",
      "Epoch 5/5\n",
      "3721/3721 [==============================] - 14s 4ms/step - loss: 0.5487 - mae: 0.4097 - binary_accuracy: 0.8373 - val_loss: 0.5488 - val_mae: 0.4020 - val_binary_accuracy: 0.8523\n",
      "---------focal loss: alpha=0.95,gamma=2-----------\n",
      "Epoch 1/5\n",
      "3721/3721 [==============================] - 15s 4ms/step - loss: 0.1437 - mae: 0.4703 - binary_accuracy: 0.8127 - val_loss: 0.1397 - val_mae: 0.4816 - val_binary_accuracy: 0.7988\n",
      "Epoch 2/5\n",
      "3721/3721 [==============================] - 15s 4ms/step - loss: 0.1398 - mae: 0.4682 - binary_accuracy: 0.8473 - val_loss: 0.1388 - val_mae: 0.4695 - val_binary_accuracy: 0.9414\n",
      "Epoch 3/5\n",
      "3721/3721 [==============================] - 14s 4ms/step - loss: 0.1387 - mae: 0.4658 - binary_accuracy: 0.8512 - val_loss: 0.1386 - val_mae: 0.4674 - val_binary_accuracy: 0.8982\n",
      "Epoch 4/5\n",
      "3721/3721 [==============================] - 15s 4ms/step - loss: 0.1383 - mae: 0.4661 - binary_accuracy: 0.8487 - val_loss: 0.1382 - val_mae: 0.4755 - val_binary_accuracy: 0.7854\n",
      "Epoch 5/5\n",
      "3721/3721 [==============================] - 14s 4ms/step - loss: 0.1379 - mae: 0.4655 - binary_accuracy: 0.8409 - val_loss: 0.1383 - val_mae: 0.4594 - val_binary_accuracy: 0.9142\n",
      "---------focal loss: alpha=0.95,gamma=4-----------\n",
      "Epoch 1/5\n",
      "3721/3721 [==============================] - 16s 4ms/step - loss: 0.0377 - mae: 0.4808 - binary_accuracy: 0.6957 - val_loss: 0.0349 - val_mae: 0.4812 - val_binary_accuracy: 0.8410\n",
      "Epoch 2/5\n",
      "3721/3721 [==============================] - 14s 4ms/step - loss: 0.0356 - mae: 0.4811 - binary_accuracy: 0.8063 - val_loss: 0.0350 - val_mae: 0.4774 - val_binary_accuracy: 0.8957\n",
      "Epoch 3/5\n",
      "3721/3721 [==============================] - 14s 4ms/step - loss: 0.0350 - mae: 0.4809 - binary_accuracy: 0.8680 - val_loss: 0.0349 - val_mae: 0.4878 - val_binary_accuracy: 0.8460\n",
      "Epoch 4/5\n",
      "3721/3721 [==============================] - 15s 4ms/step - loss: 0.0349 - mae: 0.4804 - binary_accuracy: 0.8581 - val_loss: 0.0351 - val_mae: 0.4815 - val_binary_accuracy: 0.9589\n",
      "Epoch 5/5\n",
      "3721/3721 [==============================] - 15s 4ms/step - loss: 0.0347 - mae: 0.4798 - binary_accuracy: 0.8476 - val_loss: 0.0346 - val_mae: 0.4821 - val_binary_accuracy: 0.7967\n"
     ]
    },
    {
     "data": {
      "text/plain": [
       "<keras.callbacks.History at 0x2d80fe099a0>"
      ]
     },
     "execution_count": 6,
     "metadata": {},
     "output_type": "execute_result"
    }
   ],
   "source": [
    "print(\"---------focal loss: alpha=0.5,gamma=0-----------\")\n",
    "model2.compile(optimizer='adam',\n",
    "               loss=focal_loss0,\n",
    "               metrics=['mae','binary_accuracy'])\n",
    "model2.fit(X_train, y_train, epochs=5, validation_data=(X_test, y_test))\n",
    "\n",
    "print(\"---------focal loss: alpha=0.95,gamma=0-----------\")\n",
    "model3.compile(optimizer='adam',\n",
    "               loss=focal_loss1,\n",
    "               metrics=['mae','binary_accuracy'])\n",
    "model3.fit(X_train, y_train, epochs=5, validation_data=(X_test, y_test))\n",
    "\n",
    "\n",
    "print(\"---------focal loss: alpha=0.95,gamma=2-----------\")\n",
    "model4.compile(optimizer='adam',\n",
    "               loss=focal_loss2,\n",
    "               metrics=['mae','binary_accuracy'])\n",
    "model4.fit(X_train, y_train, epochs=5, validation_data=(X_test, y_test))\n",
    "\n",
    "print(\"---------focal loss: alpha=0.95,gamma=4-----------\")\n",
    "model5.compile(optimizer='adam',\n",
    "               loss=focal_loss3,\n",
    "               metrics=['mae','binary_accuracy'])\n",
    "model5.fit(X_train, y_train, epochs=5, validation_data=(X_test, y_test))"
   ]
  },
  {
   "cell_type": "code",
   "execution_count": 9,
   "id": "d44d025f",
   "metadata": {},
   "outputs": [
    {
     "name": "stdout",
     "output_type": "stream",
     "text": [
      "14881/14881 [==============================] - 11s 713us/step\n"
     ]
    },
    {
     "data": {
      "image/png": "[encoded data removed]",
      "text/plain": [
       "<Figure size 432x288 with 1 Axes>"
      ]
     },
     "metadata": {},
     "output_type": "display_data"
    },
    {
     "name": "stdout",
     "output_type": "stream",
     "text": [
      "14881/14881 [==============================] - 11s 713us/step\n"
     ]
    },
    {
     "data": {
      "image/png": "[encoded data removed]",
      "text/plain": [
       "<Figure size 432x288 with 1 Axes>"
      ]
     },
     "metadata": {},
     "output_type": "display_data"
    },
    {
     "name": "stdout",
     "output_type": "stream",
     "text": [
      "14881/14881 [==============================] - 11s 768us/step\n"
     ]
    },
    {
     "data": {
      "image/png": "[encoded data removed]",
      "text/plain": [
       "<Figure size 432x288 with 1 Axes>"
      ]
     },
     "metadata": {},
     "output_type": "display_data"
    },
    {
     "name": "stdout",
     "output_type": "stream",
     "text": [
      "14881/14881 [==============================] - 11s 717us/step\n"
     ]
    },
    {
     "data": {
      "image/png": "[encoded data removed]",
      "text/plain": [
       "<Figure size 432x288 with 1 Axes>"
      ]
     },
     "metadata": {},
     "output_type": "display_data"
    },
    {
     "name": "stdout",
     "output_type": "stream",
     "text": [
      "14881/14881 [==============================] - 10s 699us/step\n",
      "14881/14881 [==============================] - 10s 692us/step\n",
      "14881/14881 [==============================] - 11s 763us/step\n",
      "14881/14881 [==============================] - 11s 722us/step\n"
     ]
    },
    {
     "data": {
      "image/png": "[encoded data removed]",
      "text/plain": [
       "<Figure size 432x288 with 1 Axes>"
      ]
     },
     "metadata": {},
     "output_type": "display_data"
    }
   ],
   "source": [
    "\n",
    "models=[model1,model3,model4,model5]\n",
    "modelnames=['CE','FL:0.95,0','FL:0.95,2','FL:0.95,4']\n",
    "for i,model in enumerate(models):\n",
    "    draw_confusion_metrics(model=models[i],modelname=modelnames[i],X_test=X_test,y_test=y_test)\n",
    "    \n",
    "\n",
    "#\n",
    "draw_roc_and_calculate_auc(models=models,modelnames=modelnames,colors=['black','red','green','blue'],X_test=X_test,y_test=y_test)\n"
   ]
  }
 ],
 "metadata": {
  "kernelspec": {
   "display_name": "Python 3",
   "language": "python",
   "name": "python3"
  },
  "language_info": {
   "codemirror_mode": {
    "name": "ipython",
    "version": 3
   },
   "file_extension": ".py",
   "mimetype": "text/x-python",
   "name": "python",
   "nbconvert_exporter": "python",
   "pygments_lexer": "ipython3",
   "version": "3.8.8"
  }
 },
 "nbformat": 4,
 "nbformat_minor": 5
}
