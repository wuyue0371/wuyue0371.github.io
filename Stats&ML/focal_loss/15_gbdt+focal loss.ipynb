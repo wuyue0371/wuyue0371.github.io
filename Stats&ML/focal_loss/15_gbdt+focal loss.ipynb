{
 "cells": [
  {
   "cell_type": "markdown",
   "id": "c7985c22",
   "metadata": {},
   "source": [
    "### 在gbdt中使用focal loss"
   ]
  },
  {
   "cell_type": "code",
   "execution_count": 7,
   "id": "17da1fe4",
   "metadata": {},
   "outputs": [],
   "source": [
    "from sklearn.model_selection import cross_val_score\n",
    "from sklearn.ensemble import RandomForestClassifier\n",
    "from sklearn.ensemble import ExtraTreesClassifier\n",
    "from sklearn.tree import DecisionTreeClassifier\n",
    "from sklearn.model_selection import train_test_split\n",
    "import matplotlib.pyplot as plt\n",
    "from sklearn.metrics import roc_auc_score, roc_curve, confusion_matrix\n",
    "import seaborn as sns\n",
    "from sklearn.model_selection import train_test_split, cross_val_score, KFold\n",
    "import pandas as pd\n",
    "import numpy as np\n",
    "import lightgbm as lgb\n",
    "import xgboost as xgb\n",
    "import os\n",
    "from datetime import timedelta\n",
    "from datetime import datetime\n",
    "from dateutil.relativedelta import relativedelta\n",
    "from scipy.misc import derivative\n",
    "import seaborn as sns\n",
    "sns.set()\n",
    "\n",
    "def draw_roc_and_calculate_auc(models, modelnames, colors, X_test, y_test):  # 把models的roc曲线(和auc值)画到一张图\n",
    "    N = len(models)  # 输入的是N个模型\n",
    "    y_test_pred_prob = [0] * N  # 初始化一下列表（感觉这么初始化有点丑？）\n",
    "    auc = [0] * N\n",
    "    FPR = [0] * N\n",
    "    TPR = [0] * N\n",
    "    plt.figure()\n",
    "    for i in range(N):\n",
    "        y_test_pred_prob[i] = models[i].predict(X_test)\n",
    "        auc[i] = roc_auc_score(y_test, y_test_pred_prob[i], average='macro')\n",
    "        FPR[i], TPR[i], _ = roc_curve(y_test, y_test_pred_prob[i])\n",
    "        plt.plot(FPR[i], TPR[i], color=colors[i],alpha=0.5, label=modelnames[i] + ':AUC=%.4f' % auc[i])\n",
    "    plt.plot([0, 1], [0, 1], '--', color='black')  # diagonal line\n",
    "    plt.title('ROC Curve')\n",
    "    plt.legend(loc='lower right')\n",
    "    plt.xlabel('False Positive Rate')\n",
    "    plt.ylabel('True Positive Rate')\n",
    "    plt.show()\n",
    "\n",
    "\n",
    "def draw_confusion_metrics(model, modelname, X_test, y_test):  # 把model的混淆矩阵画出来  #这个同时写很多的话不知道怎么安排画布就没写sos\n",
    "    plt.figure()\n",
    "\n",
    "    y_test_pred = (model.predict(X_test) > 0.5).astype(\"int32\")\n",
    "\n",
    "    # # y_test_pred = model.predict(X_test)  # 上面那行有时候会报错，如果模型直接是classifier用这行就行\n",
    "    # y_test_pred = model.predict_proba(X_test)[:, 1]  # 取第二列 正的概率，根据每个人的数据不同而不同!\n",
    "    # y_test_pred = np.around(y_test_pred, 0).astype(int)\n",
    "\n",
    "    c_matrix = confusion_matrix(y_test, y_test_pred)\n",
    "    ax = sns.heatmap(c_matrix, annot=True, fmt=\"d\",\n",
    "                     xticklabels=['0', '1'],\n",
    "                     yticklabels=['0', '1'],  # 应该没写反吧\n",
    "                     cbar=False, cmap='Blues')\n",
    "    ax.set_xlabel(\"Prediction\")\n",
    "    ax.set_ylabel(\"Actual\")\n",
    "    plt.title(modelname)\n",
    "    plt.show()"
   ]
  },
  {
   "cell_type": "code",
   "execution_count": 2,
   "id": "143d8060",
   "metadata": {},
   "outputs": [],
   "source": [
    "####导入数据\n",
    "df = pd.read_csv(\"E:/Desktop/train_after_FeatureEngineer.csv\")\n",
    "\n",
    "df_X = df.drop(['target', 'id'], axis=1)\n",
    "X = df_X.loc[:, :]\n",
    "Y = df.loc[:, 'target']\n",
    "X = X.to_numpy()\n",
    "y = Y.to_numpy()\n",
    "\n",
    "X_train, X_test, y_train, y_test = train_test_split(X, y, train_size=0.3,random_state=123)\n",
    "\n",
    "lgbtrain = lgb.Dataset(X_train, y_train, free_raw_data=True)\n",
    "lgbeval = lgb.Dataset(X_test, y_test)"
   ]
  },
  {
   "cell_type": "code",
   "execution_count": 3,
   "id": "580751a7",
   "metadata": {},
   "outputs": [],
   "source": [
    "# 定义focal loss 损失函数\n",
    "def focal_loss_lgb(y_pred, dtrain, alpha, gamma):\n",
    "    a, g = alpha, gamma\n",
    "    y_true = dtrain.label\n",
    "\n",
    "    def fl(x, t):\n",
    "        p = 1 / (1 + np.exp(-x))\n",
    "        return -(a * t + (1 - a) * (1 - t)) * ((1 - (t * p + (1 - t) * (1 - p))) ** g) * (\n",
    "                t * np.log(p) + (1 - t) * np.log(1 - p))\n",
    "\n",
    "    partial_fl = lambda x: fl(x, y_true)\n",
    "    grad = derivative(partial_fl, y_pred, n=1, dx=1e-6)\n",
    "    hess = derivative(partial_fl, y_pred, n=2, dx=1e-6)\n",
    "    return grad, hess\n",
    "\n",
    "\n",
    "def focal_loss_lgb_eval_error(y_pred, dtrain, alpha, gamma):\n",
    "    a, g = alpha, gamma\n",
    "    y_true = dtrain.label\n",
    "    p = 1 / (1 + np.exp(-y_pred))\n",
    "    loss = -(a * y_true + (1 - a) * (1 - y_true)) * ((1 - (y_true * p + (1 - y_true) * (1 - p))) ** g) * (\n",
    "            y_true * np.log(p) + (1 - y_true) * np.log(1 - p))\n",
    "    return 'focal_loss', np.mean(loss), False"
   ]
  },
  {
   "cell_type": "code",
   "execution_count": 4,
   "id": "81aadb38",
   "metadata": {},
   "outputs": [],
   "source": [
    "# 设定参数\n",
    "params= {\n",
    "    'boosting_type': 'gbdt',\n",
    "    'objective': 'binary',\n",
    "#     'metric': {'auc'},\n",
    "    'metric': 'custom',\n",
    "    #'num_leaves': 31,\n",
    "    'learning_rate': 0.05,\n",
    "    'feature_fraction': 0.9,\n",
    "    'bagging_fraction': 0.8,\n",
    "    'bagging_freq': 5,\n",
    "    'verbose': 0,\n",
    "}\n",
    "\n",
    "#focal loss\n",
    "focal_loss0 = lambda x,y: focal_loss_lgb(x, y, 0.5, 0.)\n",
    "focal_loss1 = lambda x,y: focal_loss_lgb(x, y, 0.95, 0.)\n",
    "focal_loss2 = lambda x,y: focal_loss_lgb(x, y, 0.95, 1.)\n",
    "focal_loss3 = lambda x,y: focal_loss_lgb(x, y, 0.95, 2.)\n",
    "focal_loss4 = lambda x,y: focal_loss_lgb(x, y, 0.95, 4.)\n",
    "focal_loss5 = lambda x,y: focal_loss_lgb(x, y, 0.95, 8.)"
   ]
  },
  {
   "cell_type": "code",
   "execution_count": 5,
   "id": "cd6b1b00",
   "metadata": {},
   "outputs": [
    {
     "name": "stdout",
     "output_type": "stream",
     "text": [
      "---------no focal loss-----------\n"
     ]
    },
    {
     "name": "stderr",
     "output_type": "stream",
     "text": [
      "D:\\anaconda\\lib\\site-packages\\lightgbm\\engine.py:181: UserWarning: 'early_stopping_rounds' argument is deprecated and will be removed in a future release of LightGBM. Pass 'early_stopping()' callback via 'callbacks' argument instead.\n",
      "  _log_warning(\"'early_stopping_rounds' argument is deprecated and will be removed in a future release of LightGBM. \"\n",
      "D:\\anaconda\\lib\\site-packages\\lightgbm\\engine.py:239: UserWarning: 'verbose_eval' argument is deprecated and will be removed in a future release of LightGBM. Pass 'log_evaluation()' callback via 'callbacks' argument instead.\n",
      "  _log_warning(\"'verbose_eval' argument is deprecated and will be removed in a future release of LightGBM. \"\n"
     ]
    },
    {
     "name": "stdout",
     "output_type": "stream",
     "text": [
      "[LightGBM] [Warning] Auto-choosing row-wise multi-threading, the overhead of testing was 0.032478 seconds.\n",
      "You can set `force_row_wise=true` to remove the overhead.\n",
      "And if memory is not enough, you can set `force_col_wise=true`.\n",
      "Training until validation scores don't improve for 20 rounds\n",
      "[10]\tvalid_0's auc: 0.61864\n",
      "[20]\tvalid_0's auc: 0.623683\n",
      "[30]\tvalid_0's auc: 0.628485\n",
      "[40]\tvalid_0's auc: 0.629112\n",
      "[50]\tvalid_0's auc: 0.63055\n",
      "[60]\tvalid_0's auc: 0.630787\n",
      "[70]\tvalid_0's auc: 0.630931\n",
      "[80]\tvalid_0's auc: 0.631389\n",
      "[90]\tvalid_0's auc: 0.631077\n",
      "[100]\tvalid_0's auc: 0.630794\n",
      "Early stopping, best iteration is:\n",
      "[82]\tvalid_0's auc: 0.631539\n",
      "---------focal loss: alpha=0.95,gamma=0-----------\n",
      "[LightGBM] [Warning] Using self-defined objective function\n",
      "[LightGBM] [Warning] Auto-choosing row-wise multi-threading, the overhead of testing was 0.027260 seconds.\n",
      "You can set `force_row_wise=true` to remove the overhead.\n",
      "And if memory is not enough, you can set `force_col_wise=true`.\n",
      "[LightGBM] [Warning] Using self-defined objective function\n"
     ]
    },
    {
     "name": "stderr",
     "output_type": "stream",
     "text": [
      "D:\\anaconda\\lib\\site-packages\\lightgbm\\engine.py:181: UserWarning: 'early_stopping_rounds' argument is deprecated and will be removed in a future release of LightGBM. Pass 'early_stopping()' callback via 'callbacks' argument instead.\n",
      "  _log_warning(\"'early_stopping_rounds' argument is deprecated and will be removed in a future release of LightGBM. \"\n",
      "D:\\anaconda\\lib\\site-packages\\lightgbm\\engine.py:239: UserWarning: 'verbose_eval' argument is deprecated and will be removed in a future release of LightGBM. Pass 'log_evaluation()' callback via 'callbacks' argument instead.\n",
      "  _log_warning(\"'verbose_eval' argument is deprecated and will be removed in a future release of LightGBM. \"\n"
     ]
    },
    {
     "name": "stdout",
     "output_type": "stream",
     "text": [
      "Training until validation scores don't improve for 20 rounds\n",
      "[10]\tvalid_0's auc: 0.621735\n",
      "[20]\tvalid_0's auc: 0.625954\n",
      "[30]\tvalid_0's auc: 0.629544\n",
      "[40]\tvalid_0's auc: 0.630566\n",
      "[50]\tvalid_0's auc: 0.631255\n",
      "[60]\tvalid_0's auc: 0.631699\n",
      "[70]\tvalid_0's auc: 0.631881\n",
      "[80]\tvalid_0's auc: 0.632224\n",
      "[90]\tvalid_0's auc: 0.632077\n",
      "Early stopping, best iteration is:\n",
      "[79]\tvalid_0's auc: 0.632278\n",
      "---------focal loss: alpha=0.95,gamma=1-----------\n",
      "[LightGBM] [Warning] Using self-defined objective function\n",
      "[LightGBM] [Warning] Auto-choosing row-wise multi-threading, the overhead of testing was 0.026420 seconds.\n",
      "You can set `force_row_wise=true` to remove the overhead.\n",
      "And if memory is not enough, you can set `force_col_wise=true`.\n",
      "[LightGBM] [Warning] Using self-defined objective function\n"
     ]
    },
    {
     "name": "stderr",
     "output_type": "stream",
     "text": [
      "D:\\anaconda\\lib\\site-packages\\lightgbm\\engine.py:181: UserWarning: 'early_stopping_rounds' argument is deprecated and will be removed in a future release of LightGBM. Pass 'early_stopping()' callback via 'callbacks' argument instead.\n",
      "  _log_warning(\"'early_stopping_rounds' argument is deprecated and will be removed in a future release of LightGBM. \"\n",
      "D:\\anaconda\\lib\\site-packages\\lightgbm\\engine.py:239: UserWarning: 'verbose_eval' argument is deprecated and will be removed in a future release of LightGBM. Pass 'log_evaluation()' callback via 'callbacks' argument instead.\n",
      "  _log_warning(\"'verbose_eval' argument is deprecated and will be removed in a future release of LightGBM. \"\n"
     ]
    },
    {
     "name": "stdout",
     "output_type": "stream",
     "text": [
      "Training until validation scores don't improve for 20 rounds\n",
      "[10]\tvalid_0's auc: 0.621122\n",
      "[20]\tvalid_0's auc: 0.625322\n",
      "[30]\tvalid_0's auc: 0.629433\n",
      "[40]\tvalid_0's auc: 0.63059\n",
      "[50]\tvalid_0's auc: 0.631506\n",
      "[60]\tvalid_0's auc: 0.632054\n",
      "[70]\tvalid_0's auc: 0.632092\n",
      "[80]\tvalid_0's auc: 0.632488\n",
      "[90]\tvalid_0's auc: 0.632229\n",
      "[100]\tvalid_0's auc: 0.631488\n",
      "Early stopping, best iteration is:\n",
      "[80]\tvalid_0's auc: 0.632488\n",
      "---------focal loss: alpha=0.95,gamma=2-----------\n",
      "[LightGBM] [Warning] Using self-defined objective function\n",
      "[LightGBM] [Warning] Auto-choosing row-wise multi-threading, the overhead of testing was 0.024018 seconds.\n",
      "You can set `force_row_wise=true` to remove the overhead.\n",
      "And if memory is not enough, you can set `force_col_wise=true`.\n",
      "[LightGBM] [Warning] Using self-defined objective function\n"
     ]
    },
    {
     "name": "stderr",
     "output_type": "stream",
     "text": [
      "D:\\anaconda\\lib\\site-packages\\lightgbm\\engine.py:181: UserWarning: 'early_stopping_rounds' argument is deprecated and will be removed in a future release of LightGBM. Pass 'early_stopping()' callback via 'callbacks' argument instead.\n",
      "  _log_warning(\"'early_stopping_rounds' argument is deprecated and will be removed in a future release of LightGBM. \"\n",
      "D:\\anaconda\\lib\\site-packages\\lightgbm\\engine.py:239: UserWarning: 'verbose_eval' argument is deprecated and will be removed in a future release of LightGBM. Pass 'log_evaluation()' callback via 'callbacks' argument instead.\n",
      "  _log_warning(\"'verbose_eval' argument is deprecated and will be removed in a future release of LightGBM. \"\n"
     ]
    },
    {
     "name": "stdout",
     "output_type": "stream",
     "text": [
      "Training until validation scores don't improve for 20 rounds\n",
      "[10]\tvalid_0's auc: 0.621873\n",
      "[20]\tvalid_0's auc: 0.625314\n",
      "[30]\tvalid_0's auc: 0.629473\n",
      "[40]\tvalid_0's auc: 0.630804\n",
      "[50]\tvalid_0's auc: 0.631241\n",
      "[60]\tvalid_0's auc: 0.632393\n",
      "[70]\tvalid_0's auc: 0.632848\n",
      "[80]\tvalid_0's auc: 0.633467\n",
      "[90]\tvalid_0's auc: 0.633208\n",
      "[100]\tvalid_0's auc: 0.632789\n",
      "Early stopping, best iteration is:\n",
      "[81]\tvalid_0's auc: 0.633532\n",
      "---------focal loss: alpha=0.95,gamma=4-----------\n",
      "[LightGBM] [Warning] Using self-defined objective function\n",
      "[LightGBM] [Warning] Auto-choosing row-wise multi-threading, the overhead of testing was 0.028524 seconds.\n",
      "You can set `force_row_wise=true` to remove the overhead.\n",
      "And if memory is not enough, you can set `force_col_wise=true`.\n",
      "[LightGBM] [Warning] Using self-defined objective function\n"
     ]
    },
    {
     "name": "stderr",
     "output_type": "stream",
     "text": [
      "D:\\anaconda\\lib\\site-packages\\lightgbm\\engine.py:181: UserWarning: 'early_stopping_rounds' argument is deprecated and will be removed in a future release of LightGBM. Pass 'early_stopping()' callback via 'callbacks' argument instead.\n",
      "  _log_warning(\"'early_stopping_rounds' argument is deprecated and will be removed in a future release of LightGBM. \"\n",
      "D:\\anaconda\\lib\\site-packages\\lightgbm\\engine.py:239: UserWarning: 'verbose_eval' argument is deprecated and will be removed in a future release of LightGBM. Pass 'log_evaluation()' callback via 'callbacks' argument instead.\n",
      "  _log_warning(\"'verbose_eval' argument is deprecated and will be removed in a future release of LightGBM. \"\n"
     ]
    },
    {
     "name": "stdout",
     "output_type": "stream",
     "text": [
      "Training until validation scores don't improve for 20 rounds\n",
      "[10]\tvalid_0's auc: 0.621789\n",
      "[20]\tvalid_0's auc: 0.625354\n",
      "[30]\tvalid_0's auc: 0.629209\n",
      "[40]\tvalid_0's auc: 0.629978\n",
      "[50]\tvalid_0's auc: 0.631003\n",
      "[60]\tvalid_0's auc: 0.631512\n",
      "[70]\tvalid_0's auc: 0.6319\n",
      "[80]\tvalid_0's auc: 0.632059\n",
      "[90]\tvalid_0's auc: 0.632277\n",
      "[100]\tvalid_0's auc: 0.631731\n",
      "Early stopping, best iteration is:\n",
      "[85]\tvalid_0's auc: 0.632495\n",
      "---------focal loss: alpha=0.95,gamma=8-----------\n",
      "[LightGBM] [Warning] Using self-defined objective function\n",
      "[LightGBM] [Warning] Auto-choosing row-wise multi-threading, the overhead of testing was 0.028731 seconds.\n",
      "You can set `force_row_wise=true` to remove the overhead.\n",
      "And if memory is not enough, you can set `force_col_wise=true`.\n",
      "[LightGBM] [Warning] Using self-defined objective function\n"
     ]
    },
    {
     "name": "stderr",
     "output_type": "stream",
     "text": [
      "D:\\anaconda\\lib\\site-packages\\lightgbm\\engine.py:181: UserWarning: 'early_stopping_rounds' argument is deprecated and will be removed in a future release of LightGBM. Pass 'early_stopping()' callback via 'callbacks' argument instead.\n",
      "  _log_warning(\"'early_stopping_rounds' argument is deprecated and will be removed in a future release of LightGBM. \"\n",
      "D:\\anaconda\\lib\\site-packages\\lightgbm\\engine.py:239: UserWarning: 'verbose_eval' argument is deprecated and will be removed in a future release of LightGBM. Pass 'log_evaluation()' callback via 'callbacks' argument instead.\n",
      "  _log_warning(\"'verbose_eval' argument is deprecated and will be removed in a future release of LightGBM. \"\n"
     ]
    },
    {
     "name": "stdout",
     "output_type": "stream",
     "text": [
      "Training until validation scores don't improve for 20 rounds\n",
      "[10]\tvalid_0's auc: 0.622186\n",
      "[20]\tvalid_0's auc: 0.62588\n",
      "[30]\tvalid_0's auc: 0.62989\n",
      "[40]\tvalid_0's auc: 0.630902\n",
      "[50]\tvalid_0's auc: 0.631799\n",
      "[60]\tvalid_0's auc: 0.632152\n",
      "[70]\tvalid_0's auc: 0.632413\n",
      "[80]\tvalid_0's auc: 0.632014\n",
      "Early stopping, best iteration is:\n",
      "[66]\tvalid_0's auc: 0.632477\n"
     ]
    }
   ],
   "source": [
    "def f_auc(probas_pred, y_true):\n",
    "    labels=y_true.get_label()\n",
    "    score = roc_auc_score(labels,probas_pred, average='macro')\n",
    "    return \"auc\", score, True\n",
    "\n",
    "print(\"---------no focal loss-----------\")\n",
    "model1 = lgb.train(params,lgbtrain,num_boost_round=150,valid_sets=[lgbeval],feval=f_auc, verbose_eval=10,early_stopping_rounds=20)\n",
    "\n",
    "# print(\"---------focal loss: alpha=0.5,gamma=0-----------\")\n",
    "# model2 = lgb.train(params,lgbtrain,num_boost_round=150,valid_sets=[lgbeval],fobj=focal_loss0,feval=f_auc,verbose_eval=10,early_stopping_rounds=10)\n",
    "\n",
    "print(\"---------focal loss: alpha=0.95,gamma=0-----------\")\n",
    "model3 = lgb.train(params,lgbtrain,num_boost_round=150,valid_sets=[lgbeval],fobj=focal_loss1,feval=f_auc, verbose_eval=10,early_stopping_rounds=20)\n",
    "\n",
    "print(\"---------focal loss: alpha=0.95,gamma=1-----------\")\n",
    "model4 = lgb.train(params,lgbtrain,num_boost_round=150,valid_sets=[lgbeval],fobj=focal_loss2, feval=f_auc,verbose_eval=10,early_stopping_rounds=20)\n",
    "\n",
    "print(\"---------focal loss: alpha=0.95,gamma=2-----------\")\n",
    "model5 = lgb.train(params,lgbtrain,num_boost_round=150,valid_sets=[lgbeval],fobj=focal_loss3,feval=f_auc, verbose_eval=10,early_stopping_rounds=20)\n",
    "\n",
    "print(\"---------focal loss: alpha=0.95,gamma=4-----------\")\n",
    "model6 = lgb.train(params,lgbtrain,num_boost_round=150,valid_sets=[lgbeval],fobj=focal_loss4,feval=f_auc, verbose_eval=10,early_stopping_rounds=20)\n",
    "\n",
    "print(\"---------focal loss: alpha=0.95,gamma=8-----------\")\n",
    "model7 = lgb.train(params,lgbtrain,num_boost_round=150,valid_sets=[lgbeval],fobj=focal_loss5, feval=f_auc,verbose_eval=10,early_stopping_rounds=20)"
   ]
  },
  {
   "cell_type": "code",
   "execution_count": 8,
   "id": "01b376c5",
   "metadata": {},
   "outputs": [
    {
     "data": {
      "image/png": "[encoded data removed]",
      "text/plain": [
       "<Figure size 432x288 with 1 Axes>"
      ]
     },
     "metadata": {},
     "output_type": "display_data"
    },
    {
     "data": {
      "image/png": "[encoded data removed]",
      "text/plain": [
       "<Figure size 432x288 with 1 Axes>"
      ]
     },
     "metadata": {},
     "output_type": "display_data"
    },
    {
     "data": {
      "image/png": "[encoded data removed]",
      "text/plain": [
       "<Figure size 432x288 with 1 Axes>"
      ]
     },
     "metadata": {},
     "output_type": "display_data"
    },
    {
     "data": {
      "image/png": "[encoded data removed]",
      "text/plain": [
       "<Figure size 432x288 with 1 Axes>"
      ]
     },
     "metadata": {},
     "output_type": "display_data"
    }
   ],
   "source": [
    "#\n",
    "draw_confusion_metrics(model=model1, modelname='CE', X_test=X_test, y_test=y_test)\n",
    "draw_confusion_metrics(model=model3, modelname='FL:0.95,0', X_test=X_test, y_test=y_test)\n",
    "draw_confusion_metrics(model=model5, modelname='FL:0.95,2', X_test=X_test, y_test=y_test)\n",
    "\n",
    "#\n",
    "draw_roc_and_calculate_auc(models=[model1, model3,model5], modelnames=['CE', 'FL:0.95,0' ,'FL:0.95,2'], colors=['blue', 'red','green'],\n",
    "                           X_test=X_test, y_test=y_test)\n"
   ]
  },
  {
   "cell_type": "markdown",
   "id": "6e834dc2",
   "metadata": {},
   "source": [
    "### 可以看出，在gdbt中focal loss虽然对真1类的区分有一定帮助，但也带来了较大误分，对auc值影响不大"
   ]
  }
 ],
 "metadata": {
  "kernelspec": {
   "display_name": "Python 3",
   "language": "python",
   "name": "python3"
  },
  "language_info": {
   "codemirror_mode": {
    "name": "ipython",
    "version": 3
   },
   "file_extension": ".py",
   "mimetype": "text/x-python",
   "name": "python",
   "nbconvert_exporter": "python",
   "pygments_lexer": "ipython3",
   "version": "3.8.8"
  }
 },
 "nbformat": 4,
 "nbformat_minor": 5
}
